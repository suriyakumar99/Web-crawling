{
 "cells": [
  {
   "cell_type": "markdown",
   "id": "5f1103db",
   "metadata": {},
   "source": [
    "INVERTED INDEXING"
   ]
  },
  {
   "cell_type": "code",
   "execution_count": 12,
   "id": "f96753a1",
   "metadata": {},
   "outputs": [
    {
     "name": "stdout",
     "output_type": "stream",
     "text": [
      "['breakthrough', 'drug', 'for', 'schizophrenia']\n"
     ]
    }
   ],
   "source": [
    "f1= open(\"doc1.txt\", mode='r', encoding='utf-8')\n",
    "doc1_x=[]\n",
    "for line in f1:\n",
    "    for word in line.split():\n",
    "        doc1_x.append(word)\n",
    "print(doc1_x)"
   ]
  },
  {
   "cell_type": "code",
   "execution_count": 13,
   "id": "1e123cb7",
   "metadata": {},
   "outputs": [
    {
     "name": "stdout",
     "output_type": "stream",
     "text": [
      "['new', 'schizophrenia', 'drug']\n"
     ]
    }
   ],
   "source": [
    "f2= open(\"doc2.txt\", mode='r', encoding='utf-8')\n",
    "doc2_x=[]\n",
    "for line in f2:\n",
    "    for word in line.split():\n",
    "        doc2_x.append(word)\n",
    "print(doc2_x)"
   ]
  },
  {
   "cell_type": "code",
   "execution_count": 14,
   "id": "2bd24c51",
   "metadata": {},
   "outputs": [
    {
     "name": "stdout",
     "output_type": "stream",
     "text": [
      "['new', 'approach', 'for', 'treatment', 'of', 'schizophrenia']\n"
     ]
    }
   ],
   "source": [
    "f3= open(\"doc3.txt\", mode='r', encoding='utf-8')\n",
    "doc3_x=[]\n",
    "for line in f3:\n",
    "    for word in line.split():\n",
    "        doc3_x.append(word)\n",
    "print(doc3_x)"
   ]
  },
  {
   "cell_type": "code",
   "execution_count": 15,
   "id": "2eac5581",
   "metadata": {},
   "outputs": [
    {
     "name": "stdout",
     "output_type": "stream",
     "text": [
      "['new', 'hopes', 'for', 'schizophrenia', 'patients']\n"
     ]
    }
   ],
   "source": [
    "f4= open(\"doc4.txt\", mode='r', encoding='utf-8')\n",
    "doc4_x=[]\n",
    "for line in f4:\n",
    "    for word in line.split():\n",
    "        doc4_x.append(word)\n",
    "print(doc4_x)"
   ]
  },
  {
   "cell_type": "code",
   "execution_count": 16,
   "id": "d0f817a3",
   "metadata": {},
   "outputs": [
    {
     "name": "stdout",
     "output_type": "stream",
     "text": [
      "{'breakthrough': [1], 'drug': [1, 2], 'for': [1, 3, 4], 'schizophrenia': [1, 2, 3, 4], 'new': [2, 3, 4], 'approach': [3], 'treatment': [3], 'of': [3], 'hopes': [4], 'patients': [4]}\n"
     ]
    }
   ],
   "source": [
    "doc_x=[]\n",
    "doc_x.extend(doc1_x)\n",
    "doc_x.extend(doc2_x)\n",
    "doc_x.extend(doc3_x)\n",
    "doc_x.extend(doc4_x)\n",
    "#print(doc_x)\n",
    "\n",
    "list_of_doc= [doc1_x, doc2_x, doc3_x, doc4_x]\n",
    "dict={}\n",
    "for item in doc_x:\n",
    "    if item not in dict:\n",
    "        dict[item]=[]\n",
    "        for i in range(len(list_of_doc)):\n",
    "            if item in list_of_doc[i]:\n",
    "                    dict[item].append(i+1)        \n",
    "print(dict)    "
   ]
  },
  {
   "cell_type": "code",
   "execution_count": 17,
   "id": "8863f706",
   "metadata": {},
   "outputs": [
    {
     "name": "stdout",
     "output_type": "stream",
     "text": [
      "+---------------+----------+--------------+\n",
      "|      Term     | Doc Freq |   Posting    |\n",
      "+---------------+----------+--------------+\n",
      "|  breakthrough |    1     |     [1]      |\n",
      "|      drug     |    2     |    [1, 2]    |\n",
      "|      for      |    3     |  [1, 3, 4]   |\n",
      "| schizophrenia |    4     | [1, 2, 3, 4] |\n",
      "|      new      |    3     |  [2, 3, 4]   |\n",
      "|    approach   |    1     |     [3]      |\n",
      "|   treatment   |    1     |     [3]      |\n",
      "|       of      |    1     |     [3]      |\n",
      "|     hopes     |    1     |     [4]      |\n",
      "|    patients   |    1     |     [4]      |\n",
      "+---------------+----------+--------------+\n"
     ]
    }
   ],
   "source": [
    "from prettytable import PrettyTable\n",
    "tb=PrettyTable([\"Term\",\"Doc Freq\",\"Posting\"])\n",
    "for item in dict:   \n",
    "    tb.add_row([item, len(dict.get(item)), dict.get(item)])\n",
    "print(tb)"
   ]
  },
  {
   "cell_type": "code",
   "execution_count": null,
   "id": "851672bb",
   "metadata": {},
   "outputs": [],
   "source": []
  }
 ],
 "metadata": {
  "kernelspec": {
   "display_name": "Python 3",
   "language": "python",
   "name": "python3"
  },
  "language_info": {
   "codemirror_mode": {
    "name": "ipython",
    "version": 3
   },
   "file_extension": ".py",
   "mimetype": "text/x-python",
   "name": "python",
   "nbconvert_exporter": "python",
   "pygments_lexer": "ipython3",
   "version": "3.8.8"
  }
 },
 "nbformat": 4,
 "nbformat_minor": 5
}
