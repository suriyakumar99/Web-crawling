{
 "cells": [
  {
   "cell_type": "markdown",
   "id": "9cf3e98e",
   "metadata": {},
   "source": [
    "Depth First Search"
   ]
  },
  {
   "cell_type": "markdown",
   "id": "6346d10f",
   "metadata": {},
   "source": [
    "Web crawler program which takes as input a url, a search word and maximum number of pages to be searched and returns as output all the web pages it searched till it found the search word on a web page or return failure. "
   ]
  },
  {
   "cell_type": "code",
   "execution_count": 59,
   "id": "3c89b197",
   "metadata": {},
   "outputs": [
    {
     "name": "stdout",
     "output_type": "stream",
     "text": [
      "Enter url to be searched: https://en.wikipedia.org/wiki/Human%E2%80%93computer_interaction\n",
      "Enter text to be searched: computer\n",
      "Enter max number of pages: 20\n"
     ]
    }
   ],
   "source": [
    "from urllib.request import urlopen\n",
    "from bs4 import BeautifulSoup\n",
    "import re\n",
    "\n",
    "url=input(\"Enter url to be searched: \")\n",
    "text=input(\"Enter text to be searched: \")\n",
    "pg=int(input(\"Enter max number of pages: \"))\n",
    "#'https://en.wikipedia.org/wiki/Web_mining'\n"
   ]
  },
  {
   "cell_type": "code",
   "execution_count": 61,
   "id": "4204cfc7",
   "metadata": {},
   "outputs": [
    {
     "name": "stdout",
     "output_type": "stream",
     "text": [
      "https://en.wikipedia.org/wiki/Talk:Human%E2%80%93computer_interaction\n",
      "https://en.wikipedia.org/wiki/File:Computer_monitor_screen_image_simulated.jpg\n",
      "https://en.wikipedia.org/wiki/File:Computer_monitor_screen_image_simulated.jpg\n",
      "https://en.wikipedia.org/wiki/Computing\n",
      "https://en.wikipedia.org/wiki/Interface_(computing)\n",
      "https://en.wikipedia.org/wiki/User_(computing)\n",
      "https://en.wikipedia.org/wiki/Computer\n",
      "https://en.wikipedia.org/wiki/Computer_science\n",
      "https://en.wikipedia.org/wiki/Design\n",
      "https://en.wikipedia.org/wiki/Outline_of_human-computer_interaction#Related_fields\n",
      "Successful\n"
     ]
    }
   ],
   "source": [
    "def crawler(url):\n",
    "    global count\n",
    "    global pg\n",
    "    count=0\n",
    "    html1 = urlopen(url)\n",
    "    bs1 = BeautifulSoup(html1, 'html.parser')\n",
    "    for link in bs1.find_all('a', href=re.compile('^(/wiki/)')):\n",
    "            if 'href' in link.attrs:\n",
    "                if(count<pg):\n",
    "                    html=\"https://en.wikipedia.org\"+link.attrs['href']\n",
    "                    html2=urlopen(html)\n",
    "                    bs2 = BeautifulSoup(html2, 'html.parser')\n",
    "                    count=count+1\n",
    "                    for str in bs2.body.strings:\n",
    "                        if text in str.split():\n",
    "                            print(html)\n",
    "                            break\n",
    "                            \n",
    "                else:\n",
    "                    return\n",
    "\n",
    "crawler(url)\n",
    "if(count==0):\n",
    "    print(\"Failure\")\n",
    "else:\n",
    "    print(\"Successful\")"
   ]
  }
 ],
 "metadata": {
  "kernelspec": {
   "display_name": "Python 3",
   "language": "python",
   "name": "python3"
  },
  "language_info": {
   "codemirror_mode": {
    "name": "ipython",
    "version": 3
   },
   "file_extension": ".py",
   "mimetype": "text/x-python",
   "name": "python",
   "nbconvert_exporter": "python",
   "pygments_lexer": "ipython3",
   "version": "3.8.8"
  }
 },
 "nbformat": 4,
 "nbformat_minor": 5
}
