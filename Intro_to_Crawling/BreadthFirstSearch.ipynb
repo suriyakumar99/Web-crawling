{
 "cells": [
  {
   "cell_type": "markdown",
   "id": "63d740ae",
   "metadata": {},
   "source": [
    "BREADTH FIRST SEARCH"
   ]
  },
  {
   "cell_type": "code",
   "execution_count": 1,
   "id": "87dd163f",
   "metadata": {},
   "outputs": [
    {
     "name": "stdout",
     "output_type": "stream",
     "text": [
      "Enter url to be searched: https://en.wikipedia.org/wiki/Human%E2%80%93computer_interaction\n",
      "Enter text to be searched: computer\n",
      "Enter max number of pages: 20\n"
     ]
    }
   ],
   "source": [
    "from urllib.request import urlopen\n",
    "from bs4 import BeautifulSoup\n",
    "import re\n",
    "\n",
    "url=input(\"Enter url to be searched: \")\n",
    "text=input(\"Enter text to be searched: \")\n",
    "pg=int(input(\"Enter max number of pages: \"))\n",
    "#'https://en.wikipedia.org/wiki/Web_mining'"
   ]
  },
  {
   "cell_type": "code",
   "execution_count": 8,
   "id": "6798653c",
   "metadata": {},
   "outputs": [
    {
     "name": "stdout",
     "output_type": "stream",
     "text": [
      "https://en.wikipedia.org/wiki/Talk:Human%E2%80%93computer_interaction\n",
      "https://en.wikipedia.org/wiki/File:Computer_monitor_screen_image_simulated.jpg\n",
      "https://en.wikipedia.org/wiki/Computing\n",
      "https://en.wikipedia.org/wiki/Interface_(computing)\n",
      "https://en.wikipedia.org/wiki/User_(computing)\n",
      "https://en.wikipedia.org/wiki/Computer\n",
      "https://en.wikipedia.org/wiki/Computer_science\n",
      "https://en.wikipedia.org/wiki/Design\n",
      "https://en.wikipedia.org/wiki/Outline_of_human-computer_interaction#Related_fields\n",
      "https://en.wikipedia.org/wiki/Stuart_K._Card\n",
      "https://en.wikipedia.org/wiki/Allen_Newell\n",
      "https://en.wikipedia.org/wiki/Thomas_P._Moran\n"
     ]
    }
   ],
   "source": [
    "count=0\n",
    "over=0\n",
    "urls=set()\n",
    "\n",
    "def crawl(url):\n",
    "    global count\n",
    "    global word\n",
    "    global pg\n",
    "    global over\n",
    "    links=[]\n",
    "    html=urlopen(url)\n",
    "    bs=BeautifulSoup(html, \"html.parser\")\n",
    "    for link in bs.find_all('a', href=re.compile('^(/wiki/)')):\n",
    "            if 'href' in link.attrs:\n",
    "                if link.attrs['href'] in urls:\n",
    "                    continue\n",
    "                else:\n",
    "                    urls.add(link.attrs['href'])\n",
    "                link.append(\"https://en.wikipedia.org\"+link.attrs['href'])\n",
    "                count=count+1\n",
    "                if count==pg+1:\n",
    "                    over=-1\n",
    "                    return\n",
    "                html2=urlopen(\"https://en.wikipedia.org\"+link.attrs['href'])\n",
    "                bs=BeautifulSoup(html2, \"html.parser\")\n",
    "                body=bs.body\n",
    "                for str in body.strings:\n",
    "                    if text in str.split():\n",
    "                        print(\"https://en.wikipedia.org\"+link.attrs['href'])\n",
    "                        break\n",
    "                if over==-1:\n",
    "                    return\n",
    "    for link in links:\n",
    "        crawl(link)\n",
    "crawl(url)"
   ]
  },
  {
   "cell_type": "code",
   "execution_count": null,
   "id": "526c8b98",
   "metadata": {},
   "outputs": [],
   "source": []
  }
 ],
 "metadata": {
  "kernelspec": {
   "display_name": "Python 3",
   "language": "python",
   "name": "python3"
  },
  "language_info": {
   "codemirror_mode": {
    "name": "ipython",
    "version": 3
   },
   "file_extension": ".py",
   "mimetype": "text/x-python",
   "name": "python",
   "nbconvert_exporter": "python",
   "pygments_lexer": "ipython3",
   "version": "3.8.8"
  }
 },
 "nbformat": 4,
 "nbformat_minor": 5
}
