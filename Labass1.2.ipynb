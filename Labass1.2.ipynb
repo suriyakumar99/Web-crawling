{
 "cells": [
  {
   "cell_type": "markdown",
   "id": "ac8d3011",
   "metadata": {},
   "source": [
    "BOOLEAN RETRIEVAL MODEL"
   ]
  },
  {
   "cell_type": "code",
   "execution_count": 52,
   "id": "6f3a7834",
   "metadata": {},
   "outputs": [
    {
     "name": "stdout",
     "output_type": "stream",
     "text": [
      "['breakthrough', 'drug', 'for', 'schizophrenia']\n"
     ]
    }
   ],
   "source": [
    "f1= open(\"doc1.txt\", mode='r', encoding='utf-8')\n",
    "doc1_x=[]\n",
    "for line in f1:\n",
    "    for word in line.split():\n",
    "        doc1_x.append(word)\n",
    "print(doc1_x)"
   ]
  },
  {
   "cell_type": "code",
   "execution_count": 53,
   "id": "3300c89c",
   "metadata": {},
   "outputs": [
    {
     "name": "stdout",
     "output_type": "stream",
     "text": [
      "['new', 'schizophrenia', 'drug']\n"
     ]
    }
   ],
   "source": [
    "f2= open(\"doc2.txt\", mode='r', encoding='utf-8')\n",
    "doc2_x=[]\n",
    "for line in f2:\n",
    "    for word in line.split():\n",
    "        doc2_x.append(word)\n",
    "print(doc2_x)"
   ]
  },
  {
   "cell_type": "code",
   "execution_count": 54,
   "id": "361bb274",
   "metadata": {},
   "outputs": [
    {
     "name": "stdout",
     "output_type": "stream",
     "text": [
      "['new', 'approach', 'for', 'treatment', 'of', 'schizophrenia']\n"
     ]
    }
   ],
   "source": [
    "f3= open(\"doc3.txt\", mode='r', encoding='utf-8')\n",
    "doc3_x=[]\n",
    "for line in f3:\n",
    "    for word in line.split():\n",
    "        doc3_x.append(word)\n",
    "print(doc3_x)"
   ]
  },
  {
   "cell_type": "code",
   "execution_count": 55,
   "id": "86348a8b",
   "metadata": {},
   "outputs": [
    {
     "name": "stdout",
     "output_type": "stream",
     "text": [
      "['new', 'hopes', 'for', 'schizophrenia', 'patients']\n"
     ]
    }
   ],
   "source": [
    "f4= open(\"doc4.txt\", mode='r', encoding='utf-8')\n",
    "doc4_x=[]\n",
    "for line in f4:\n",
    "    for word in line.split():\n",
    "        doc4_x.append(word)\n",
    "print(doc4_x)"
   ]
  },
  {
   "cell_type": "code",
   "execution_count": 56,
   "id": "f56be22c",
   "metadata": {},
   "outputs": [
    {
     "name": "stdout",
     "output_type": "stream",
     "text": [
      "{'breakthrough': [1, 0, 0, 0], 'drug': [1, 1, 0, 0], 'for': [1, 0, 1, 1], 'schizophrenia': [1, 1, 1, 1], 'new': [0, 1, 1, 1], 'approach': [0, 0, 1, 0], 'treatment': [0, 0, 1, 0], 'of': [0, 0, 1, 0], 'hopes': [0, 0, 0, 1], 'patients': [0, 0, 0, 1]}\n"
     ]
    }
   ],
   "source": [
    "doc_x=[]\n",
    "doc_x.extend(doc1_x)\n",
    "doc_x.extend(doc2_x)\n",
    "doc_x.extend(doc3_x)\n",
    "doc_x.extend(doc4_x)\n",
    "\n",
    "list_of_doc= [doc1_x, doc2_x, doc3_x, doc4_x]\n",
    "dict={}\n",
    "for item in doc_x:\n",
    "    if item not in dict:\n",
    "        dict[item]=[]\n",
    "        for i in range(len(list_of_doc)):\n",
    "            if item in list_of_doc[i]:\n",
    "                dict[item].append(1)\n",
    "            else:\n",
    "                dict[item].append(0)\n",
    "                \n",
    "print(dict)"
   ]
  },
  {
   "cell_type": "markdown",
   "id": "b6508e2d",
   "metadata": {},
   "source": [
    "BOOLEAN OPERATIONS\n",
    "\n",
    "schizophrenia AND drug"
   ]
  },
  {
   "cell_type": "code",
   "execution_count": 57,
   "id": "2ecc4031",
   "metadata": {},
   "outputs": [
    {
     "name": "stdout",
     "output_type": "stream",
     "text": [
      "[1, 1, 0, 0]\n"
     ]
    }
   ],
   "source": [
    "print(dict.get('schizophrenia') and dict.get('drug'))"
   ]
  },
  {
   "cell_type": "markdown",
   "id": "bcbfe725",
   "metadata": {},
   "source": [
    "for AND NOT(drug OR approach)"
   ]
  },
  {
   "cell_type": "code",
   "execution_count": 67,
   "id": "72583bd2",
   "metadata": {},
   "outputs": [
    {
     "name": "stdout",
     "output_type": "stream",
     "text": [
      "[1,1,1,0]\n"
     ]
    }
   ],
   "source": [
    "a=dict.get('drug') or dict.get('approach')\n",
    "not_a = [] \n",
    "for bit in a: \n",
    "    if bit==1:\n",
    "        not_a.append(0)\n",
    "    else:\n",
    "        not_a.append(1)\n",
    "print(dict.get('for') and  not_a )"
   ]
  },
  {
   "cell_type": "code",
   "execution_count": null,
   "id": "4fcc7aec",
   "metadata": {},
   "outputs": [],
   "source": []
  },
  {
   "cell_type": "code",
   "execution_count": null,
   "id": "81947f44",
   "metadata": {},
   "outputs": [],
   "source": []
  }
 ],
 "metadata": {
  "kernelspec": {
   "display_name": "Python 3",
   "language": "python",
   "name": "python3"
  },
  "language_info": {
   "codemirror_mode": {
    "name": "ipython",
    "version": 3
   },
   "file_extension": ".py",
   "mimetype": "text/x-python",
   "name": "python",
   "nbconvert_exporter": "python",
   "pygments_lexer": "ipython3",
   "version": "3.8.8"
  }
 },
 "nbformat": 4,
 "nbformat_minor": 5
}
